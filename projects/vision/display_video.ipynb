{
 "cells": [
  {
   "cell_type": "markdown",
   "id": "0cba2711-19e0-4340-a6ad-76a7fa7c7154",
   "metadata": {},
   "source": [
    "# Jupiter Notebook でカメラビューを表示する\n",
    "　以下のコードを実行するとリアルタイムでカメラビュー表示できる"
   ]
  },
  {
   "cell_type": "code",
   "execution_count": 1,
   "id": "b2e70f05-4ae8-46d5-a454-ae8e08f35924",
   "metadata": {},
   "outputs": [
    {
     "name": "stdout",
     "output_type": "stream",
     "text": [
      "Stream stopped\n"
     ]
    }
   ],
   "source": [
    "# 必要なモジュール\n",
    "from io import BytesIO\n",
    "from PIL import Image\n",
    "import IPython\n",
    "import os\n",
    "\n",
    "# 実装関数\n",
    "def show(img, fmt='jpeg'):\n",
    "    f = BytesIO()\n",
    "    Image.fromarray(img).save(f, fmt)\n",
    "    IPython.display.display(IPython.display.Image(data=f.getvalue()))\n",
    "    IPython.display.clear_output(wait=True)\n",
    "\n",
    "######## 実装例 #########\n",
    "# opencv\n",
    "import cv2\n",
    "\n",
    "cap = cv2.VideoCapture(0)\n",
    "assert cap.isOpened(), 'Could not open video device'\n",
    "\n",
    "try:\n",
    "    while(True):\n",
    "        ret, frame = cap.read()\n",
    "        if ret:\n",
    "            frame = cv2.cvtColor(frame, cv2.COLOR_BGR2RGB)\n",
    "            show(frame)\n",
    "\n",
    "except KeyboardInterrupt:\n",
    "    cap.release()\n",
    "    print('Stream stopped')"
   ]
  },
  {
   "cell_type": "markdown",
   "id": "e5181ac3-95e1-401f-bb40-9632be69df13",
   "metadata": {},
   "source": [
    "このコードの中で Jupiter Notebook 内で画像を描画するのに必要な追加モジュールは以下の通りである。\n",
    "```python\n",
    "from io import BytesIO\n",
    "from PIL import Image\n",
    "import IPython\n",
    "import os\n",
    "```\n",
    "そして、ノートブック内に以下の関数をおくことで、この関数を用いて動画描写が可能になる。\n",
    "```python\n",
    "def show(img, fmt='jpeg'):\n",
    "    f = BytesIO()\n",
    "    Image.fromarray(img).save(f, fmt)\n",
    "    IPython.display.display(IPython.display.Image(data=f.getvalue()))\n",
    "    IPython.display.clear_output(wait=True)\n",
    "```"
   ]
  }
 ],
 "metadata": {
  "kernelspec": {
   "display_name": "Python 3 (ipykernel)",
   "language": "python",
   "name": "python3"
  },
  "language_info": {
   "codemirror_mode": {
    "name": "ipython",
    "version": 3
   },
   "file_extension": ".py",
   "mimetype": "text/x-python",
   "name": "python",
   "nbconvert_exporter": "python",
   "pygments_lexer": "ipython3",
   "version": "3.11.5"
  }
 },
 "nbformat": 4,
 "nbformat_minor": 5
}

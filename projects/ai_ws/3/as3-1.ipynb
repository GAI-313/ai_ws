{
 "cells": [
  {
   "cell_type": "markdown",
   "id": "1f7bf746-4207-4929-9382-408ae39b4796",
   "metadata": {},
   "source": [
    "# 課題 3-1\n",
    "4 年　1組 22番 213380021 仲戸川凱<br><br>\n",
    "課題前に`numpy`をインポートする。\n"
   ]
  },
  {
   "cell_type": "code",
   "execution_count": 1,
   "id": "6569b6aa-c23d-4e20-b810-130b5b509d18",
   "metadata": {},
   "outputs": [],
   "source": [
    "# import lib\n",
    "import numpy as np"
   ]
  },
  {
   "cell_type": "markdown",
   "id": "296020eb-05a0-41b1-9826-017eb4ffbf31",
   "metadata": {},
   "source": [
    "以下の数式を使って以下の処理を行う。\n",
    "$$\n",
    "\\begin{align*}\n",
    "A = \\left( \\begin{array}{cc} 1 & 2 \\\\ 3 & 4 \\end{array} \\right) ,\\ \n",
    "B = \\left( \\begin{array}{c} 2 \\\\ 3 \\end{array} \\right) ,\\ \n",
    "C = \\left( \\begin{array}{cc} 2 & 3 \\end{array} \\right)\n",
    "\\end{align*}\n",
    "$$"
   ]
  },
  {
   "cell_type": "markdown",
   "id": "15a2989f-6ef4-4927-94e1-ed8a93e8d33e",
   "metadata": {},
   "source": [
    "## Q1.上記の行列において行列の積（`numpy.do`を使用）と**アダマール積**を求めよ。$AB=$"
   ]
  },
  {
   "cell_type": "code",
   "execution_count": 13,
   "id": "5e315c89-20ba-4db8-a1bb-ecb8473acec6",
   "metadata": {},
   "outputs": [
    {
     "name": "stdout",
     "output_type": "stream",
     "text": [
      "行列積AB =\n",
      " [[ 8]\n",
      " [18]]\n",
      "アダマール積AB =\n",
      " [[ 2  6]\n",
      " [ 6 12]]\n"
     ]
    }
   ],
   "source": [
    "A = np.array([[1,2],[3,4]])\n",
    "B = np.array([[2],[3]])\n",
    "\n",
    "AB = np.dot(A,B)\n",
    "print(f\"行列積AB = \\n {AB}\")\n",
    "\n",
    "AB = A * B.T\n",
    "print(f\"アダマール積AB = \\n {AB}\")"
   ]
  },
  {
   "cell_type": "markdown",
   "id": "2577a196-4866-4c3d-82cb-49161ba15fe7",
   "metadata": {},
   "source": [
    "## Q2.上記の行列において行列の積（`numpy.do`を使用）と**アダマール積**を求めよ。$CA=$"
   ]
  },
  {
   "cell_type": "code",
   "execution_count": 14,
   "id": "fabdee42-557a-481d-91bc-e600e211c6e9",
   "metadata": {},
   "outputs": [
    {
     "name": "stdout",
     "output_type": "stream",
     "text": [
      "行列積CA = \n",
      " [11 16]\n",
      "アダマール積CA = \n",
      " [[ 2  6]\n",
      " [ 6 12]]\n"
     ]
    }
   ],
   "source": [
    "C = np.array([2,3])\n",
    "A = np.array([[1,2],[3,4]])\n",
    "\n",
    "CA = np.dot(C,A)\n",
    "print(f\"行列積CA = \\n {CA}\")\n",
    "\n",
    "CA = C.T * A\n",
    "print(f\"アダマール積CA = \\n {CA}\")"
   ]
  },
  {
   "cell_type": "markdown",
   "id": "d87d056f-87ff-4244-802d-a7d0b2562c93",
   "metadata": {},
   "source": [
    "## Q3.上記の行列において行列の積（`numpy.do`を使用）と**アダマール積**を求めよ。$CB=$"
   ]
  },
  {
   "cell_type": "code",
   "execution_count": 15,
   "id": "20609211-ddcc-4b26-942f-7bde91039dbf",
   "metadata": {},
   "outputs": [
    {
     "name": "stdout",
     "output_type": "stream",
     "text": [
      "行列積CA =\n",
      " [13]\n",
      "アダマール積CA =\n",
      " [[4 9]]\n"
     ]
    }
   ],
   "source": [
    "C = np.array([2,3])\n",
    "B = np.array([[2],[3]])\n",
    "\n",
    "CB = np.dot(C,B)\n",
    "print(f\"行列積CA =\\n {CB}\")\n",
    "\n",
    "CB = C * B.T\n",
    "print(f\"アダマール積CA =\\n {CB}\")"
   ]
  },
  {
   "cell_type": "markdown",
   "id": "f6852cb9-1b84-4745-b1af-0e7c49281bb7",
   "metadata": {},
   "source": [
    "## Q4.上記の行列において行列の積（`numpy.do`を使用）と**アダマール積**を求めよ。$BC=$（各次元の要素数も得ること）"
   ]
  },
  {
   "cell_type": "code",
   "execution_count": 22,
   "id": "c80fc7d1-a27d-488e-90a7-b8ccbf03ac4c",
   "metadata": {},
   "outputs": [
    {
     "name": "stdout",
     "output_type": "stream",
     "text": [
      "要素数 = \n",
      " ((2,), (2, 1))\n",
      "行列積CA =\n",
      " [[4 6]\n",
      " [6 9]]\n",
      "アダマール積CA =\n",
      " [[4 9]]\n"
     ]
    }
   ],
   "source": [
    "C = np.array([2,3])\n",
    "B = np.array([[2],[3]])\n",
    "\n",
    "print(f\"要素数 = \\n {C.shape, B.shape}\")\n",
    "\n",
    "BC = np.dot(B,C.reshape(1,2))\n",
    "print(f\"行列積CA =\\n {BC}\")\n",
    "\n",
    "BC = B.T * C\n",
    "print(f\"アダマール積CA =\\n {BC}\")"
   ]
  }
 ],
 "metadata": {
  "kernelspec": {
   "display_name": "Python 3 (ipykernel)",
   "language": "python",
   "name": "python3"
  },
  "language_info": {
   "codemirror_mode": {
    "name": "ipython",
    "version": 3
   },
   "file_extension": ".py",
   "mimetype": "text/x-python",
   "name": "python",
   "nbconvert_exporter": "python",
   "pygments_lexer": "ipython3",
   "version": "3.11.5"
  }
 },
 "nbformat": 4,
 "nbformat_minor": 5
}

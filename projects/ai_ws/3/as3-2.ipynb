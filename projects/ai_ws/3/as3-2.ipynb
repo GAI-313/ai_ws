{
 "cells": [
  {
   "cell_type": "markdown",
   "id": "1f7bf746-4207-4929-9382-408ae39b4796",
   "metadata": {},
   "source": [
    "# 課題 3-2\n",
    "4 年　1組 22番 213380021 仲戸川凱<br><br>\n",
    "課題前に`numpy`をインポートする。\n"
   ]
  },
  {
   "cell_type": "code",
   "execution_count": 4,
   "id": "6569b6aa-c23d-4e20-b810-130b5b509d18",
   "metadata": {},
   "outputs": [],
   "source": [
    "# import lib\n",
    "import numpy as np"
   ]
  },
  {
   "cell_type": "markdown",
   "id": "296020eb-05a0-41b1-9826-017eb4ffbf31",
   "metadata": {},
   "source": [
    "以下の数式を使って以下の処理を行う。\n",
    "$$\n",
    "A = \\left( \\begin{array}{cc} 5 & 3 & 7 \\\\ 6 & 8 & 4 \\\\ 0 & 5 & 1 \\end{array} \\right) \n",
    "$$"
   ]
  },
  {
   "cell_type": "markdown",
   "id": "15a2989f-6ef4-4927-94e1-ed8a93e8d33e",
   "metadata": {},
   "source": [
    "## Q1.上記の行列$A$をリスト型配列で作成し、配列全体と各列について、平均、分散、標準偏差を求めよ"
   ]
  },
  {
   "cell_type": "code",
   "execution_count": 43,
   "id": "5e315c89-20ba-4db8-a1bb-ecb8473acec6",
   "metadata": {},
   "outputs": [
    {
     "name": "stdout",
     "output_type": "stream",
     "text": [
      "行列全体\n",
      "平均 : \n",
      " 4.333333333333333\n",
      "分散 : \n",
      " 6.222222222222221\n",
      "標準偏差 : \n",
      " 2.494438257849294\n",
      "-------------------------------------\n",
      "列ごと\n",
      "平均 : \n",
      " [3.6666666666666665, 5.333333333333333, 4.0]\n",
      "分散 : \n",
      " [6.888888888888888, 4.222222222222222, 6.0]\n",
      "標準偏差 : \n",
      " [2.6246692913372702, 2.0548046676563256, 2.449489742783178]\n"
     ]
    }
   ],
   "source": [
    "def calculate_mean(data):\n",
    "    return sum(data) / len(data)\n",
    "\n",
    "def calculate_variance(data):\n",
    "    mean = calculate_mean(data)\n",
    "    variance = sum((x - mean) ** 2 for x in data) / len(data)\n",
    "    return variance\n",
    "\n",
    "def calculate_std_deviation(variance):\n",
    "    return variance ** 0.5\n",
    "\n",
    "\n",
    "A = [[5, 3, 7],\n",
    "     [6, 8, 4],\n",
    "     [0, 5, 1]]\n",
    "\n",
    "all_elements = [element for row in A for element in row]\n",
    "overall_mean = calculate_mean(all_elements)\n",
    "overall_variance = calculate_variance(all_elements)\n",
    "overall_std_deviation = calculate_std_deviation(overall_variance)\n",
    "\n",
    "print(\"行列全体\")\n",
    "print(f\"平均 : \\n {overall_mean}\")\n",
    "print(f\"分散 : \\n {overall_variance}\")\n",
    "print(f\"標準偏差 : \\n {overall_std_deviation}\")\n",
    "\n",
    "print(\"-------------------------------------\")\n",
    "\n",
    "columns = len(A[0])\n",
    "column_means = []\n",
    "column_variances = []\n",
    "column_std_deviations = []\n",
    "\n",
    "for i in range(columns):\n",
    "    column = [row[i] for row in A]\n",
    "    column_means.append(calculate_mean(column))\n",
    "    var = calculate_variance(column)\n",
    "    column_variances.append(var)\n",
    "    column_std_deviations.append(calculate_std_deviation(var))\n",
    "\n",
    "print(\"列ごと\")\n",
    "print(f\"平均 : \\n {column_means}\")\n",
    "print(f\"分散 : \\n {column_variances}\")\n",
    "print(f\"標準偏差 : \\n {column_std_deviations}\")\n",
    "\n"
   ]
  },
  {
   "cell_type": "markdown",
   "id": "2577a196-4866-4c3d-82cb-49161ba15fe7",
   "metadata": {},
   "source": [
    "## Q2.上記の行列$A$を`numpy`型配列で作成し、配列全体と各列について、平均、分散、標準偏差を求めよ"
   ]
  },
  {
   "cell_type": "code",
   "execution_count": 13,
   "id": "fabdee42-557a-481d-91bc-e600e211c6e9",
   "metadata": {},
   "outputs": [
    {
     "name": "stdout",
     "output_type": "stream",
     "text": [
      "行列全体\n",
      "平均 : \n",
      " 4.333333333333333\n",
      "分散 : \n",
      " 6.222222222222222\n",
      "標準偏差 : \n",
      " 2.494438257849294\n",
      "-------------------------------------\n",
      "列ごと\n",
      "平均 : \n",
      " [3.66666667 5.33333333 4.        ]\n",
      "分散 : \n",
      " [6.88888889 4.22222222 6.        ]\n",
      "標準偏差 : \n",
      " [2.62466929 2.05480467 2.44948974]\n"
     ]
    }
   ],
   "source": [
    "A = np.array([[5,3,7],\n",
    "            [6,8,4],\n",
    "            [0,5,1]])\n",
    "\n",
    "print(\"行列全体\")\n",
    "print(f\"平均 : \\n {np.mean(A)}\")\n",
    "print(f\"分散 : \\n {A.var()}\")\n",
    "print(f\"標準偏差 : \\n {A.std()}\")\n",
    "\n",
    "print(\"-------------------------------------\")\n",
    "\n",
    "print(\"列ごと\")\n",
    "print(f\"平均 : \\n {A.mean(axis=0)}\")\n",
    "print(f\"分散 : \\n {A.var(axis=0)}\")\n",
    "print(f\"標準偏差 : \\n {A.std(axis=0)}\")"
   ]
  },
  {
   "cell_type": "markdown",
   "id": "d87d056f-87ff-4244-802d-a7d0b2562c93",
   "metadata": {},
   "source": [
    "## Q2.上記の行列$A$を`numpy`型配列で作成し、`numpy.where`を使って$5$以上の値を全て$-1$に置換させること。"
   ]
  },
  {
   "cell_type": "code",
   "execution_count": 16,
   "id": "20609211-ddcc-4b26-942f-7bde91039dbf",
   "metadata": {},
   "outputs": [
    {
     "name": "stdout",
     "output_type": "stream",
     "text": [
      "結果 : \n",
      "[[ 5  3 -1]\n",
      " [-1 -1  4]\n",
      " [ 0  5  1]]\n"
     ]
    }
   ],
   "source": [
    "A = np.array([[5,3,7],\n",
    "            [6,8,4],\n",
    "            [0,5,1]])\n",
    "\n",
    "print(f\"結果 : \\n{np.where(A>5, -1, A)}\")"
   ]
  }
 ],
 "metadata": {
  "kernelspec": {
   "display_name": "Python 3 (ipykernel)",
   "language": "python",
   "name": "python3"
  },
  "language_info": {
   "codemirror_mode": {
    "name": "ipython",
    "version": 3
   },
   "file_extension": ".py",
   "mimetype": "text/x-python",
   "name": "python",
   "nbconvert_exporter": "python",
   "pygments_lexer": "ipython3",
   "version": "3.11.5"
  }
 },
 "nbformat": 4,
 "nbformat_minor": 5
}
